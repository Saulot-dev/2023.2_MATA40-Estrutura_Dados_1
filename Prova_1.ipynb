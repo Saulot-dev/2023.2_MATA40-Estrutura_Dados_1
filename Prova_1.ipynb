{
 "cells": [
  {
   "cell_type": "code",
   "execution_count": 4,
   "metadata": {},
   "outputs": [
    {
     "name": "stdout",
     "output_type": "stream",
     "text": [
      "[0 1 2 3 4]\n"
     ]
    }
   ],
   "source": [
    "import numpy as np\n",
    "\n",
    "class No:\n",
    "    def __init__(self, v):\n",
    "        self.value = v\n",
    "        self.next = None\n",
    "class Lista:\n",
    "    def __init__(self):\n",
    "        self.head = self.new_list()\n",
    "    def new_list(self):\n",
    "        return None\n",
    "    def append(self, no):\n",
    "        if self.head == None:\n",
    "            self.head = no\n",
    "        else:\n",
    "            temp = self.head\n",
    "            while temp.next != None:\n",
    "                temp = temp.next\n",
    "            temp.next = no\n",
    "    def display(self):\n",
    "        if self.head == None:\n",
    "            print(\"Lista vazia\")\n",
    "        else:\n",
    "            temp = self.head\n",
    "            while temp != None:\n",
    "                print(temp.value)\n",
    "                temp = temp.next\n",
    "    def remove(self, x):\n",
    "        temp = self.head\n",
    "        for i in np.arange(0, x-1): #percorre até o anterior à posicao desejada\n",
    "            temp = temp.next\n",
    "        temp.next = temp.next.next\n",
    "    def free_list(self):\n",
    "        self.head = None\n",
    "    def inverte_sublista(self, x, y): #x e y inclusos\n",
    "        lim_left = self.head\n",
    "        if x > 1:\n",
    "            for i in np.arange(0, x-1):\n",
    "                lim_left = lim_left.next\n",
    "        lim_right = lim_left\n",
    "        for i in np.arange(x, y+1):\n",
    "            lim_right = lim_right.next #verificar se está percorrendo direito\n",
    "        if x == 0:\n",
    "            first = lim_left\n",
    "        else:\n",
    "            first = lim_left.next\n",
    "        last = lim_right\n",
    "        for i in np.arange(0, y-x):\n",
    "            tmp = first.next\n",
    "            first.next = last\n",
    "            last = first\n",
    "            first = tmp\n",
    "            if first.next == lim_right:\n",
    "                first.next = last\n",
    "                break\n",
    "        if x == 0:\n",
    "            self.head = first\n",
    "        else:\n",
    "            lim_left.next = first\n",
    "            \n",
    "                \n",
    "\n",
    "N = int(input())\n",
    "vetor = np.array(list(map(int, input().split())))\n",
    "l = Lista()\n",
    "for i in vetor:\n",
    "    item = No(i)\n",
    "    l.append(item)\n",
    "I = int(input()) #Numero de inversoes a serem realizadas\n",
    "for i in np.arange(0, I, 1):\n",
    "    X, Y = map(int, input.split()) # 0<=X<N-1 e 1<=Y<=N-1\n",
    "    #fazer a inversao dos intervalos(inclusos)\n",
    "R = int(input()) #Numero de remoçoes a serem realizadas R = [1, N-1]\n",
    "for i in np.arange(0, R, 1):\n",
    "    X = int(input()) #posiçao a ser removida\n",
    "    #fazer a remoçao das posiçoes (loop começando do 0)"
   ]
  }
 ],
 "metadata": {
  "kernelspec": {
   "display_name": "base",
   "language": "python",
   "name": "python3"
  },
  "language_info": {
   "codemirror_mode": {
    "name": "ipython",
    "version": 3
   },
   "file_extension": ".py",
   "mimetype": "text/x-python",
   "name": "python",
   "nbconvert_exporter": "python",
   "pygments_lexer": "ipython3",
   "version": "3.10.9"
  },
  "orig_nbformat": 4
 },
 "nbformat": 4,
 "nbformat_minor": 2
}
