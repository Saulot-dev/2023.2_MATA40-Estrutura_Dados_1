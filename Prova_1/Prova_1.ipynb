{
 "cells": [
  {
   "cell_type": "code",
   "execution_count": 4,
   "metadata": {},
   "outputs": [
    {
     "name": "stdout",
     "output_type": "stream",
     "text": [
      "[0 1 2 3 4]\n"
     ]
    }
   ],
   "source": [
    "import numpy as np\n",
    "\n",
    "#Questao um Inverte listas\n",
    "class No:\n",
    "    def __init__(self, v):\n",
    "        self.id = v\n",
    "        self.next = None\n",
    "\n",
    "class Lista:\n",
    "    def __init__(self):\n",
    "        self.head = self.new_list()\n",
    "        self.tail = No(\"tail\")\n",
    "        self.head.next = self.tail\n",
    "    def new_list(self):\n",
    "        head = No(\"head\")\n",
    "        return head\n",
    "\n",
    "    def append(self, no):\n",
    "        if self.head.next == self.tail:\n",
    "            no.next = self.tail\n",
    "            self.head.next = no\n",
    "        else:\n",
    "            tmp = self.head\n",
    "            while tmp.next != self.tail:\n",
    "                tmp = tmp.next\n",
    "            tmp.next = no\n",
    "            no.next = self.tail\n",
    "            \n",
    "    def display(self):\n",
    "        if self.head.next == self.tail:\n",
    "            print(\"Lista vazia\")\n",
    "        else:\n",
    "            tmp = self.head.next\n",
    "            while tmp != self.tail:\n",
    "                print(tmp.id, end = \" \")\n",
    "                tmp = tmp.next\n",
    "    def remove(self, x):\n",
    "        tmp = self.head.next\n",
    "        if x == 0:\n",
    "            self.head.next = tmp.next\n",
    "        else:\n",
    "            for i in np.arange(0, x-1):\n",
    "                tmp = tmp.next\n",
    "            tmp.next = tmp.next.next\n",
    "            \n",
    "    def free_list(self):\n",
    "        self.head = None\n",
    "    \n",
    "    def find_no(self, pos):\n",
    "        if pos == -1:\n",
    "            return self.head\n",
    "        tmp = self.head.next\n",
    "        for i in np.arange(0, pos):\n",
    "                tmp = tmp.next\n",
    "        return tmp    \n",
    "            \n",
    "    def inverte_sublista(self, x, y): #x e y inclusos\n",
    "        left = self.find_no(x-1)\n",
    "        right = self.find_no(y+1) #tá retornando certo?\n",
    "        no_x = self.find_no(x)\n",
    "        no_y = self.find_no(y)\n",
    "        while no_x != no_y:\n",
    "            no_i = no_x.next\n",
    "            no_x.next = right\n",
    "            right = no_x\n",
    "            no_x = no_i\n",
    "        no_y.next = right\n",
    "        left.next = no_y\n",
    "\n",
    "N = int(input())\n",
    "vetor = np.array(list(map(int, input().split())))\n",
    "l = Lista()\n",
    "for i in vetor:\n",
    "    item = No(i)\n",
    "    l.append(item)\n",
    "\n",
    "I = int(input()) #Numero de inversoes a serem realizadas\n",
    "for i in np.arange(0, I, 1):\n",
    "    X, Y = map(int, input().split()) # 0<=X<N-1 e 1<=Y<=N-1\n",
    "    l.inverte_sublista(X, Y)\n",
    "    #l.display()\n",
    "    \n",
    "R = int(input()) #Numero de remoçoes a serem realizadas R = [1, N-1]\n",
    "for i in np.arange(0, R, 1):\n",
    "    X = int(input()) #posiçao a ser removida\n",
    "    l.remove(X)\n",
    "    #l.display()\n",
    "l.display()"
   ]
  },
  {
   "cell_type": "code",
   "execution_count": null,
   "metadata": {},
   "outputs": [],
   "source": [
    "#Questao 2 Mensagens Criptografadas\n"
   ]
  }
 ],
 "metadata": {
  "kernelspec": {
   "display_name": "base",
   "language": "python",
   "name": "python3"
  },
  "language_info": {
   "codemirror_mode": {
    "name": "ipython",
    "version": 3
   },
   "file_extension": ".py",
   "mimetype": "text/x-python",
   "name": "python",
   "nbconvert_exporter": "python",
   "pygments_lexer": "ipython3",
   "version": "3.10.9"
  },
  "orig_nbformat": 4
 },
 "nbformat": 4,
 "nbformat_minor": 2
}
