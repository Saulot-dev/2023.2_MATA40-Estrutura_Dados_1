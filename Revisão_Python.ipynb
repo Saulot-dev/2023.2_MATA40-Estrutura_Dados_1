{
 "cells": [
  {
   "cell_type": "markdown",
   "metadata": {
    "id": "TD4xQHNEvLvi"
   },
   "source": [
    "# Aula - Python\n",
    "\n",
    "## Fundamentos Básicos"
   ]
  },
  {
   "cell_type": "markdown",
   "metadata": {},
   "source": [
    "### -----\n",
    "### 1. Atribuição e impressão na tela\n",
    "### -----"
   ]
  },
  {
   "cell_type": "code",
   "execution_count": 1,
   "metadata": {
    "colab": {
     "base_uri": "https://localhost:8080/"
    },
    "id": "nlehC-b_vLvl",
    "outputId": "ab4ed826-1629-4cb7-be47-86f64b9cdaa0"
   },
   "outputs": [
    {
     "name": "stdout",
     "output_type": "stream",
     "text": [
      "Valor de 51\n",
      "Valor de 5.1\n",
      "Valor de teste\n",
      "Valor de teste\n"
     ]
    }
   ],
   "source": [
    "a = 51;\n",
    "print(f\"Valor de {a}\")\n",
    "a = 5.1\n",
    "print(f\"Valor de {a}\")\n",
    "a = \"teste\"\n",
    "print(f\"Valor de {a}\")\n",
    "a = 'teste'\n",
    "print(f\"Valor de {a}\")"
   ]
  },
  {
   "cell_type": "code",
   "execution_count": 2,
   "metadata": {
    "colab": {
     "base_uri": "https://localhost:8080/"
    },
    "id": "7pq2m8nOvLvl",
    "outputId": "aeab7fe5-7705-4e9c-b7d4-01724db4d8d4"
   },
   "outputs": [
    {
     "name": "stdout",
     "output_type": "stream",
     "text": [
      "Valor de teste 10\n",
      "Valor de teste 10\n"
     ]
    }
   ],
   "source": [
    "# outro exemplo de print\n",
    "b = 10\n",
    "print(f\"Valor de {a} {b}\")\n",
    "print(\"Valor de\", a, b)"
   ]
  },
  {
   "cell_type": "markdown",
   "metadata": {},
   "source": [
    "### -----\n",
    "### 2. Operações matemáticas básicas\n",
    "### -----"
   ]
  },
  {
   "cell_type": "code",
   "execution_count": 3,
   "metadata": {
    "colab": {
     "base_uri": "https://localhost:8080/"
    },
    "id": "KX6dzfiAvLvl",
    "outputId": "1b598e17-d622-4466-93e3-557cec688449"
   },
   "outputs": [
    {
     "name": "stdout",
     "output_type": "stream",
     "text": [
      "Valor de 22\n",
      "Valor de -12\n",
      "Valor de 85\n",
      "Valor de 3.4\n",
      "Valor de 3.4\n",
      "Valor de 3.4 2  3\n",
      "Valor de 2.0\n"
     ]
    }
   ],
   "source": [
    "b = 17\n",
    "c = 5\n",
    "print(f\"Valor de {c+b}\")\n",
    "print(f\"Valor de {c-b}\")\n",
    "print(f\"Valor de {c*b}\")\n",
    "print(f\"Valor de {b/c}\")\n",
    "print(f\"Valor de {round(b/c, ndigits=2)}\")\n",
    "print(f\"Valor de {b/c} {b%c}  {b//c}\")\n",
    "print(f\"Valor de {4**(0.5)}\")"
   ]
  },
  {
   "cell_type": "markdown",
   "metadata": {},
   "source": [
    "### -----\n",
    "### 3. Expressões lógicas\n",
    "### -----"
   ]
  },
  {
   "cell_type": "code",
   "execution_count": 4,
   "metadata": {
    "colab": {
     "base_uri": "https://localhost:8080/"
    },
    "id": "6pzQEBGEvLvm",
    "outputId": "494db301-1690-4493-88b0-c43f459a8680"
   },
   "outputs": [
    {
     "name": "stdout",
     "output_type": "stream",
     "text": [
      "Valor de False\n",
      "Valor de False\n",
      "Valor de False\n",
      "Valor de True\n",
      "Valor de True\n",
      "Valor de True\n",
      "Valor de False\n",
      "Valor de True\n",
      "Valor de False\n",
      "Valor de True\n"
     ]
    }
   ],
   "source": [
    "print(f\"Valor de {c == b}\")\n",
    "print(f\"Valor de {c > b}\")\n",
    "print(f\"Valor de {c >= b}\")\n",
    "print(f\"Valor de {c < b}\")\n",
    "print(f\"Valor de {c <= b}\")\n",
    "print(f\"Valor de {c != b}\")\n",
    "print(f\"Valor de {not (c != b)}\")\n",
    "\n",
    "print(f\"Valor de {c != b and c < b}\")\n",
    "print(f\"Valor de {c != b and c > b}\")\n",
    "print(f\"Valor de {c != b or c > b}\")"
   ]
  },
  {
   "cell_type": "markdown",
   "metadata": {},
   "source": [
    "### -----\n",
    "### 4. if/else\n",
    "### -----"
   ]
  },
  {
   "cell_type": "code",
   "execution_count": 6,
   "metadata": {
    "colab": {
     "base_uri": "https://localhost:8080/"
    },
    "id": "6cjdQDppvLvm",
    "outputId": "18cdecc3-f98e-4aed-e3bf-fb519ae7f6f0"
   },
   "outputs": [
    {
     "name": "stdout",
     "output_type": "stream",
     "text": [
      "Resultado 3125\n"
     ]
    }
   ],
   "source": [
    "c = 5\n",
    "b = 5\n",
    "\n",
    "if (c > b):\n",
    "    d = c + b\n",
    "    print(f\"Resultado: {d}\")\n",
    "elif c == b:\n",
    "    d = c ** b\n",
    "    print(f\"Resultado {d}\")\n",
    "else:\n",
    "    d = c - b\n",
    "    print(f\"Resultado: {d}\")"
   ]
  },
  {
   "cell_type": "markdown",
   "metadata": {},
   "source": [
    "### -----\n",
    "### 5. Usando bibliotecas do Python\n",
    "### -----"
   ]
  },
  {
   "cell_type": "code",
   "execution_count": 9,
   "metadata": {
    "id": "ktgiL36nvLvp",
    "outputId": "47df8a59-6fd1-4780-e963-ecf050feda99"
   },
   "outputs": [
    {
     "name": "stdout",
     "output_type": "stream",
     "text": [
      "2.0\n",
      "2.0\n"
     ]
    }
   ],
   "source": [
    "# biblioteca básica para operações matemáticas\n",
    "import math as m\n",
    "\n",
    "print(f\"{4**0.5}\")\n",
    "print(f\"{m.sqrt(4)}\")"
   ]
  },
  {
   "cell_type": "code",
   "execution_count": 11,
   "metadata": {
    "id": "rir4MI9evLvp",
    "outputId": "1496952c-0fee-4497-95a7-fc09cc0fad4f"
   },
   "outputs": [
    {
     "name": "stdout",
     "output_type": "stream",
     "text": [
      "2.0\n"
     ]
    }
   ],
   "source": [
    "from math import sqrt as raiz\n",
    "print(f\"{raiz(4)}\")"
   ]
  },
  {
   "cell_type": "markdown",
   "metadata": {},
   "source": [
    "### -----\n",
    "### 6. Vetores\n",
    "### -----"
   ]
  },
  {
   "cell_type": "code",
   "execution_count": 20,
   "metadata": {
    "id": "XMcow2gTvLvq",
    "outputId": "5d311f72-27d4-42a0-e209-368d3d4f313b"
   },
   "outputs": [
    {
     "name": "stdout",
     "output_type": "stream",
     "text": [
      "[0. 0. 0.]\n",
      "[1. 1. 1.]\n",
      "[0 1 2 3 4]\n",
      "[2 3 4]\n",
      "['teste' 'teste' 'teste' 'teste' 'teste' 'teste' 'teste' 'teste' 'teste'\n",
      " 'teste']\n"
     ]
    }
   ],
   "source": [
    "### vetores --> numpy\n",
    "import numpy as np\n",
    "\n",
    "v1 = np.zeros(3)\n",
    "print(v1)\n",
    "\n",
    "v2 = np.ones(3)\n",
    "print(v2)\n",
    "\n",
    "v3 = np.arange(5)\n",
    "print(v3)\n",
    "\n",
    "v4 = np.arange(2,5)\n",
    "print(v4)\n",
    "\n",
    "v5 = np.repeat(\"teste\", 10)\n",
    "print(v5)"
   ]
  },
  {
   "cell_type": "code",
   "execution_count": 21,
   "metadata": {
    "id": "Up9jglGkvLvr",
    "outputId": "94c4504a-7d6d-49aa-96b9-b141c05cbf8d"
   },
   "outputs": [
    {
     "data": {
      "text/plain": [
       "array([0. , 0.1, 0.2, 0.3, 0.4, 0.5, 0.6, 0.7, 0.8, 0.9])"
      ]
     },
     "execution_count": 21,
     "metadata": {},
     "output_type": "execute_result"
    }
   ],
   "source": [
    "# cria um vetor entre 0 e 1 com '0.1 saltos'\n",
    "\n",
    "np.arange(0, 1, 0.1)"
   ]
  },
  {
   "cell_type": "code",
   "execution_count": 10,
   "metadata": {
    "id": "Yu4SWNEqvLvr",
    "outputId": "ab6772c1-ff8c-45ad-c1e0-1caddfd0e5b0"
   },
   "outputs": [
    {
     "data": {
      "text/plain": [
       "array([0, 2, 4, 6, 8])"
      ]
     },
     "execution_count": 10,
     "metadata": {},
     "output_type": "execute_result"
    }
   ],
   "source": [
    "# cria um vetor entre 0 e 10 com incremento de 2\n",
    "np.arange(0, 10, 2)"
   ]
  },
  {
   "cell_type": "markdown",
   "metadata": {},
   "source": [
    "### -----\n",
    "### 7. Laços\n",
    "### -----"
   ]
  },
  {
   "cell_type": "code",
   "execution_count": 26,
   "metadata": {
    "id": "TeVhYQTgvLvo",
    "outputId": "e579c75b-dfe7-4b1a-a63b-2732f8b8371b"
   },
   "outputs": [
    {
     "name": "stdout",
     "output_type": "stream",
     "text": [
      "Valor: 2\n",
      "Valor: 3\n",
      "Valor: 4\n"
     ]
    }
   ],
   "source": [
    "# estruturas de controle\n",
    "\n",
    "for i in v4:\n",
    "    print(f\"Valor: {i}\")"
   ]
  },
  {
   "cell_type": "code",
   "execution_count": 28,
   "metadata": {},
   "outputs": [
    {
     "name": "stdout",
     "output_type": "stream",
     "text": [
      "Indice: 0 | Valor: 2\n",
      "Indice: 1 | Valor: 3\n",
      "Indice: 2 | Valor: 4\n"
     ]
    }
   ],
   "source": [
    "for i in np.arange(len(v4)): \n",
    "    print(f\"Indice: {i} | Valor: {v4[i]}\")"
   ]
  },
  {
   "cell_type": "code",
   "execution_count": 12,
   "metadata": {
    "id": "DrKBn__GvLvo",
    "outputId": "1de4fea2-d765-4273-fdcd-260c2c04bfb3"
   },
   "outputs": [
    {
     "name": "stdout",
     "output_type": "stream",
     "text": [
      "0\n",
      "1\n",
      "2\n",
      "3\n",
      "4\n"
     ]
    },
    {
     "data": {
      "text/plain": [
       "[None, None, None, None, None]"
      ]
     },
     "execution_count": 12,
     "metadata": {},
     "output_type": "execute_result"
    }
   ],
   "source": [
    "[print(i) for i in v3]"
   ]
  },
  {
   "cell_type": "code",
   "execution_count": 30,
   "metadata": {
    "id": "nVakcpgOvLvp",
    "outputId": "d7bcf98a-cc54-40e1-9848-2d045f6ddef9"
   },
   "outputs": [
    {
     "name": "stdout",
     "output_type": "stream",
     "text": [
      "2\n",
      "3\n",
      "4\n"
     ]
    }
   ],
   "source": [
    "i = 0\n",
    "while i < len(v4):\n",
    "    print(v4[i])\n",
    "    i += 1"
   ]
  },
  {
   "cell_type": "markdown",
   "metadata": {},
   "source": [
    "### -----\n",
    "### 8. Funções\n",
    "### -----"
   ]
  },
  {
   "cell_type": "code",
   "execution_count": 36,
   "metadata": {
    "id": "a_YtScjGvLvp"
   },
   "outputs": [],
   "source": [
    "# criação de funções\n",
    "# usando parametros default\n",
    "def nova_funcao(a, b=1, c=1):\n",
    "  return (a+b)*c\n"
   ]
  },
  {
   "cell_type": "code",
   "execution_count": 37,
   "metadata": {
    "colab": {
     "base_uri": "https://localhost:8080/"
    },
    "id": "ejDchV4lvLvp",
    "outputId": "180ea836-ffab-4f5c-aa57-339633500be1"
   },
   "outputs": [
    {
     "name": "stdout",
     "output_type": "stream",
     "text": [
      "6\n",
      "119\n",
      "81\n",
      "119\n"
     ]
    }
   ],
   "source": [
    "print(f\"{nova_funcao(5)}\")\n",
    "print(f\"{nova_funcao(7,10,7)}\")\n",
    "print(f\"{nova_funcao(a = 8, c = 9)}\")\n",
    "print(f\"{nova_funcao(a = 7, b = 10, c = 7)}\")\n",
    "#print(f\"{nova_funcao(b = 10, c = 7)}\")"
   ]
  },
  {
   "cell_type": "code",
   "execution_count": 19,
   "metadata": {},
   "outputs": [
    {
     "name": "stdout",
     "output_type": "stream",
     "text": [
      "Help on built-in function print in module builtins:\n",
      "\n",
      "print(...)\n",
      "    print(value, ..., sep=' ', end='\\n', file=sys.stdout, flush=False)\n",
      "    \n",
      "    Prints the values to a stream, or to sys.stdout by default.\n",
      "    Optional keyword arguments:\n",
      "    file:  a file-like object (stream); defaults to the current sys.stdout.\n",
      "    sep:   string inserted between values, default a space.\n",
      "    end:   string appended after the last value, default a newline.\n",
      "    flush: whether to forcibly flush the stream.\n",
      "\n"
     ]
    },
    {
     "data": {
      "text/plain": [
       "\u001b[0;31mDocstring:\u001b[0m\n",
       "print(value, ..., sep=' ', end='\\n', file=sys.stdout, flush=False)\n",
       "\n",
       "Prints the values to a stream, or to sys.stdout by default.\n",
       "Optional keyword arguments:\n",
       "file:  a file-like object (stream); defaults to the current sys.stdout.\n",
       "sep:   string inserted between values, default a space.\n",
       "end:   string appended after the last value, default a newline.\n",
       "flush: whether to forcibly flush the stream.\n",
       "\u001b[0;31mType:\u001b[0m      builtin_function_or_method\n"
      ]
     },
     "metadata": {},
     "output_type": "display_data"
    }
   ],
   "source": [
    "# como verificar a utilização de funções: help\n",
    "\n",
    "help(print)\n",
    "# ou\n",
    "?print"
   ]
  },
  {
   "cell_type": "code",
   "execution_count": 40,
   "metadata": {
    "colab": {
     "base_uri": "https://localhost:8080/"
    },
    "id": "sU9ixVBhvLvq",
    "outputId": "52280729-c051-413c-97d6-85d6e1beb56e"
   },
   "outputs": [
    {
     "name": "stdout",
     "output_type": "stream",
     "text": [
      "11\n",
      "-1\n"
     ]
    }
   ],
   "source": [
    "# como importar funções de um arquivo\n",
    "\n",
    "from teste import *\n",
    "\n",
    "print(f\"{soma(5,6)}\")\n",
    "print(f\"{subtrai(5,6)}\")"
   ]
  },
  {
   "cell_type": "markdown",
   "metadata": {},
   "source": [
    "### -----\n",
    "### 9. Matrizes\n",
    "### -----"
   ]
  },
  {
   "cell_type": "code",
   "execution_count": 27,
   "metadata": {
    "id": "ebbsJpKhvLvr",
    "outputId": "2039ad92-99ee-4215-c337-065ce67c29c6"
   },
   "outputs": [
    {
     "data": {
      "text/plain": [
       "array([ 0,  1,  2,  3,  4,  5,  6,  7,  8,  9, 10, 11])"
      ]
     },
     "execution_count": 27,
     "metadata": {},
     "output_type": "execute_result"
    }
   ],
   "source": [
    "# criando matrizes\n",
    "# a função reshape transforma um vetor (1xT) em uma matriz (M, N)\n",
    "np.arange(12) #1x12"
   ]
  },
  {
   "cell_type": "code",
   "execution_count": 46,
   "metadata": {
    "id": "YaeENrNhvLvr",
    "outputId": "50f33209-9c00-45f5-f1af-a89a070043ef"
   },
   "outputs": [
    {
     "data": {
      "text/plain": [
       "array([[ 0,  1,  2],\n",
       "       [ 3,  4,  5],\n",
       "       [ 6,  7,  8],\n",
       "       [ 9, 10, 11]])"
      ]
     },
     "execution_count": 46,
     "metadata": {},
     "output_type": "execute_result"
    }
   ],
   "source": [
    "np.arange(12).reshape(4,3) #4x3"
   ]
  },
  {
   "cell_type": "code",
   "execution_count": 47,
   "metadata": {
    "id": "uM20saYSvLvr",
    "outputId": "14c6e575-8480-4981-bb42-ecd55a48d428"
   },
   "outputs": [
    {
     "name": "stdout",
     "output_type": "stream",
     "text": [
      "[[0. 0. 0.]\n",
      " [0. 0. 0.]\n",
      " [0. 0. 0.]\n",
      " [0. 0. 0.]]\n",
      "[[ 0  1  2]\n",
      " [ 3  4  5]\n",
      " [ 6  7  8]\n",
      " [ 9 10 11]]\n"
     ]
    }
   ],
   "source": [
    "m1 = np.zeros(12).reshape(4,3)\n",
    "print(m1)\n",
    "\n",
    "m2 = np.arange(12).reshape(4,3)\n",
    "print(m2)"
   ]
  },
  {
   "cell_type": "code",
   "execution_count": 30,
   "metadata": {
    "id": "Hxz2j2JgvLvr",
    "outputId": "a1d4a688-c38d-4ac6-c999-f2763a3ed4cc"
   },
   "outputs": [
    {
     "data": {
      "text/plain": [
       "8"
      ]
     },
     "execution_count": 30,
     "metadata": {},
     "output_type": "execute_result"
    }
   ],
   "source": [
    "# acessando valores na linha 2 e coluna 2\n",
    "# lembrem-se que o índice começa do valor 0\n",
    "m2[2,2]"
   ]
  },
  {
   "cell_type": "code",
   "execution_count": 48,
   "metadata": {
    "id": "0VDs8dPyvLvr",
    "outputId": "0a4e4c62-4404-4977-becc-8c57ddc39b37"
   },
   "outputs": [
    {
     "data": {
      "text/plain": [
       "array([0, 1, 2])"
      ]
     },
     "execution_count": 48,
     "metadata": {},
     "output_type": "execute_result"
    }
   ],
   "source": [
    "# recuperando apenas a 1a linha\n",
    "m2[0, :]"
   ]
  },
  {
   "cell_type": "code",
   "execution_count": 32,
   "metadata": {
    "id": "_WMcDwuVvLvs",
    "outputId": "21cf371a-9bf9-402f-edb5-1649bffff6cb"
   },
   "outputs": [
    {
     "data": {
      "text/plain": [
       "array([0, 1])"
      ]
     },
     "execution_count": 32,
     "metadata": {},
     "output_type": "execute_result"
    }
   ],
   "source": [
    "# recuperando apenas os valores da 1a linha e das 2 primeiras colunas\n",
    "m2[0, 0:2]"
   ]
  },
  {
   "cell_type": "code",
   "execution_count": 33,
   "metadata": {
    "id": "bM2F0oGzvLvs",
    "outputId": "435169c7-c33f-4696-9d6a-8a3109e23f00"
   },
   "outputs": [
    {
     "data": {
      "text/plain": [
       "array([0, 3, 6, 9])"
      ]
     },
     "execution_count": 33,
     "metadata": {},
     "output_type": "execute_result"
    }
   ],
   "source": [
    "# recuperando apenas os valores da 1a coluna\n",
    "m2[:, 0]"
   ]
  },
  {
   "cell_type": "code",
   "execution_count": 51,
   "metadata": {},
   "outputs": [
    {
     "name": "stdout",
     "output_type": "stream",
     "text": [
      "[[0. 0. 0.]\n",
      " [0. 0. 0.]\n",
      " [0. 0. 0.]\n",
      " [0. 0. 0.]]\n",
      "----\n",
      "[[ 0  1  2]\n",
      " [ 3  4  5]\n",
      " [ 6  7  8]\n",
      " [ 9 10 11]]\n"
     ]
    }
   ],
   "source": [
    "print(m1)\n",
    "print(\"----\")\n",
    "print(m2)"
   ]
  },
  {
   "cell_type": "code",
   "execution_count": 53,
   "metadata": {
    "id": "kTxC4s-EvLvt"
   },
   "outputs": [
    {
     "data": {
      "text/plain": [
       "array([[ 0.,  0.,  0.,  0.,  1.,  2.],\n",
       "       [ 0.,  0.,  0.,  3.,  4.,  5.],\n",
       "       [ 0.,  0.,  0.,  6.,  7.,  8.],\n",
       "       [ 0.,  0.,  0.,  9., 10., 11.]])"
      ]
     },
     "execution_count": 53,
     "metadata": {},
     "output_type": "execute_result"
    }
   ],
   "source": [
    "# concatenando duas matrizes\n",
    "m3 = np.append(m1, m2, axis=1)\n",
    "m3"
   ]
  },
  {
   "cell_type": "code",
   "execution_count": 43,
   "metadata": {
    "id": "uTpruOocvLvt",
    "outputId": "0e43fb6c-beed-424f-c7bb-bb73a3d5917e"
   },
   "outputs": [
    {
     "name": "stdout",
     "output_type": "stream",
     "text": [
      "m1 = (4, 3)\n",
      "m2 = (4, 3)\n",
      "m3 = (8, 3)\n"
     ]
    }
   ],
   "source": [
    "print(f\"m1 = {m1.shape}\")\n",
    "print(f\"m2 = {m2.shape}\")\n",
    "print(f\"m3 = {m3.shape}\")"
   ]
  },
  {
   "cell_type": "markdown",
   "metadata": {},
   "source": [
    "### -----\n",
    "### 13. Salvando em arquivos \n",
    "### -----"
   ]
  },
  {
   "cell_type": "code",
   "execution_count": 54,
   "metadata": {
    "id": "bhXr5RHDvLvu"
   },
   "outputs": [],
   "source": [
    "#salvando em arquivo\n",
    "np.savetxt(\"teste.csv\", m3, delimiter=\",\")"
   ]
  },
  {
   "cell_type": "code",
   "execution_count": 55,
   "metadata": {
    "id": "_KmD33SZvLvu",
    "outputId": "b57a4c73-d388-427d-bb37-b8056fa43811"
   },
   "outputs": [
    {
     "data": {
      "text/plain": [
       "array([[ 0.,  0.,  0.,  0.,  1.,  2.],\n",
       "       [ 0.,  0.,  0.,  3.,  4.,  5.],\n",
       "       [ 0.,  0.,  0.,  6.,  7.,  8.],\n",
       "       [ 0.,  0.,  0.,  9., 10., 11.]])"
      ]
     },
     "execution_count": 55,
     "metadata": {},
     "output_type": "execute_result"
    }
   ],
   "source": [
    "#lendo de um arquivo\n",
    "np.genfromtxt(\"teste.csv\", delimiter=',')"
   ]
  },
  {
   "cell_type": "code",
   "execution_count": 11,
   "metadata": {},
   "outputs": [
    {
     "name": "stdout",
     "output_type": "stream",
     "text": [
      "Saulo\n"
     ]
    }
   ],
   "source": [
    "class robo:\n",
    "    def __init__(self):\n",
    "        self.id = \"\"\n",
    "    def define_id(self, i):\n",
    "        self.id = i\n",
    "    #--Instancia é trazer dp anstratp ára p cpmcretp--\n",
    "    def mostra_id(self):\n",
    "        print(self.id)\n",
    "saulo = robo()\n",
    "saulo.define_id(\"Saulo\")\n",
    "saulo.mostra_id()"
   ]
  },
  {
   "cell_type": "code",
   "execution_count": 2,
   "metadata": {},
   "outputs": [
    {
     "name": "stdout",
     "output_type": "stream",
     "text": [
      "15\n"
     ]
    }
   ],
   "source": [
    "#1. Escreva uma função chamada multiplica que faça multiplicação de dois números\n",
    "# inteiros utilizando somas.\n",
    "def multiplica(a, b):\n",
    "    a_ini = a\n",
    "    for i in range(b, 1, -1):\n",
    "        a += a_ini\n",
    "    return a\n",
    "print(multiplica(3, 5))"
   ]
  },
  {
   "cell_type": "code",
   "execution_count": 7,
   "metadata": {},
   "outputs": [
    {
     "name": "stdout",
     "output_type": "stream",
     "text": [
      "5.0\n"
     ]
    }
   ],
   "source": [
    "# 2. Escreva uma função chamada divide que faça divisão de dois números inteiros\n",
    "# utilizando subtrações.\n",
    "def divide(n, d):\n",
    "    razao = n/d\n",
    "    for i in range(d, 1, -1):\n",
    "        n -= razao\n",
    "    return n\n",
    "print(divide(25, 5))"
   ]
  },
  {
   "cell_type": "code",
   "execution_count": 9,
   "metadata": {},
   "outputs": [
    {
     "name": "stdout",
     "output_type": "stream",
     "text": [
      "27\n"
     ]
    }
   ],
   "source": [
    "# 3. Escreva uma função chamada potencia que calcule a potência de dois números x\n",
    "# e y (xy) utilizando multiplicações.\n",
    "def potencia(a,b):\n",
    "    a_ini = a\n",
    "    for i in range(b, 1, -1):\n",
    "        a *= a_ini\n",
    "    return a\n",
    "print(potencia(3, 3))"
   ]
  },
  {
   "cell_type": "code",
   "execution_count": 15,
   "metadata": {},
   "outputs": [
    {
     "name": "stdout",
     "output_type": "stream",
     "text": [
      "True\n"
     ]
    }
   ],
   "source": [
    "# 4. Escreva uma função chamada primo que recebe um número inteiro e retorne 1, se\n",
    "# primo, ou 0, caso contrário.\n",
    "def primo(x):\n",
    "    if x == 2:\n",
    "        return True\n",
    "    elif x%2 == 0:\n",
    "        return False\n",
    "    else:\n",
    "        y = 3\n",
    "        while y < x:\n",
    "            if x%y == 0:\n",
    "                return False\n",
    "            y += 2\n",
    "    return True\n",
    "print(primo(19))"
   ]
  },
  {
   "cell_type": "code",
   "execution_count": 6,
   "metadata": {},
   "outputs": [
    {
     "name": "stdout",
     "output_type": "stream",
     "text": [
      "3628800\n"
     ]
    }
   ],
   "source": [
    "# 5. Escreva uma função chamada fatorial que recebe um número e retorne seu\n",
    "# fatorial.\n",
    "def fatorial(x):\n",
    "    x_ini = x\n",
    "    while x_ini > 1:\n",
    "        x *= x_ini-1\n",
    "        x_ini -= 1;\n",
    "    return x\n",
    "print(fatorial(10))"
   ]
  },
  {
   "cell_type": "code",
   "execution_count": 10,
   "metadata": {},
   "outputs": [
    {
     "name": "stdout",
     "output_type": "stream",
     "text": [
      "44\n"
     ]
    }
   ],
   "source": [
    "# 6. Escreva uma função chamada inteiros que recebe um número inteiro positivo x e\n",
    "# retorne a soma de todos os inteiros positivos entre 1 e x.\n",
    "def inteiros(x):\n",
    "    i = 2\n",
    "    soma = 0\n",
    "    while i < x:\n",
    "        soma += i\n",
    "        i += 1\n",
    "    return soma\n",
    "print(inteiros(10))"
   ]
  },
  {
   "cell_type": "code",
   "execution_count": 2,
   "metadata": {},
   "outputs": [],
   "source": [
    "# 7. Escreva uma função chamada fibonacci que receba um número e retorne a soma\n",
    "# da sua sequência de Fibonacci.\n"
   ]
  },
  {
   "cell_type": "code",
   "execution_count": 4,
   "metadata": {},
   "outputs": [
    {
     "name": "stdout",
     "output_type": "stream",
     "text": [
      "23\n"
     ]
    }
   ],
   "source": [
    "# 8. Se listarmos todos os números naturais abaixo de 10 que são múltiplos de 3 ou 5,\n",
    "# temos 3, 5, 6, 9, cuja soma é 23. Escreva uma função chamada multiplos que recebe\n",
    "# um número y e retorna a soma de todos os múltiplos de 3 e 5 abaixo desse número y.\n",
    "def multiplos(x):\n",
    "    soma = 0\n",
    "    for i in range(3, x, 1):\n",
    "        if i%3 == 0 or i%5 == 0:\n",
    "            soma += i\n",
    "    return soma\n",
    "print(multiplos(10))"
   ]
  },
  {
   "cell_type": "code",
   "execution_count": 6,
   "metadata": {},
   "outputs": [
    {
     "name": "stdout",
     "output_type": "stream",
     "text": [
      "88\n"
     ]
    }
   ],
   "source": [
    "# 9. Escreva uma função chamada menor que recebe um vetor e retorna o menor valor\n",
    "# dentre os elementos do vetor.\n",
    "def maior(array):\n",
    "    maior = array[0]\n",
    "    for i in array:\n",
    "        if maior < i:\n",
    "            maior = i\n",
    "    return maior\n",
    "print(maior([1,5,88,10,7,9]))"
   ]
  },
  {
   "cell_type": "code",
   "execution_count": 8,
   "metadata": {},
   "outputs": [
    {
     "name": "stdout",
     "output_type": "stream",
     "text": [
      "1\n"
     ]
    }
   ],
   "source": [
    "# 10. Escreva uma função chamada menor que recebe um vetor e retorna o maior\n",
    "# valor dentre os elementos do vetor.\n",
    "def menor(array):\n",
    "    menor = array[0]\n",
    "    for i in array:\n",
    "        if menor > i:\n",
    "            menor = i\n",
    "    return menor\n",
    "print(menor([1,5,88,10,7,9]))"
   ]
  },
  {
   "cell_type": "code",
   "execution_count": 10,
   "metadata": {},
   "outputs": [
    {
     "name": "stdout",
     "output_type": "stream",
     "text": [
      "20.0\n"
     ]
    }
   ],
   "source": [
    "# 11. Escreva uma função chamada media que recebe um vetor e retorna sua\n",
    "# média.\n",
    "def media(array):\n",
    "    soma = 0\n",
    "    for i in array:\n",
    "        soma += i\n",
    "    return soma / len(array)\n",
    "print(media([1,5,88,10,7,9]))"
   ]
  },
  {
   "cell_type": "code",
   "execution_count": 11,
   "metadata": {},
   "outputs": [
    {
     "name": "stdout",
     "output_type": "stream",
     "text": [
      "52\n"
     ]
    }
   ],
   "source": [
    "# 12. Escreva uma função chamada somamatriz que recebe uma matriz e soma\n",
    "# todos os elementos da matriz.\n",
    "def somamatriz(array):\n",
    "    soma = 0\n",
    "    for i in range(0, len(array), 1):\n",
    "        for j in range(0, len(array[i]), 1):\n",
    "            soma += array[i][j]\n",
    "    return soma\n",
    "print(somamatriz([[0, 1, 2, 3], [10, 11, 12, 13]]))"
   ]
  }
 ],
 "metadata": {
  "colab": {
   "provenance": []
  },
  "kernelspec": {
   "display_name": "Python 3",
   "language": "python",
   "name": "python3"
  },
  "language_info": {
   "codemirror_mode": {
    "name": "ipython",
    "version": 3
   },
   "file_extension": ".py",
   "mimetype": "text/x-python",
   "name": "python",
   "nbconvert_exporter": "python",
   "pygments_lexer": "ipython3",
   "version": "3.10.4"
  }
 },
 "nbformat": 4,
 "nbformat_minor": 4
}
