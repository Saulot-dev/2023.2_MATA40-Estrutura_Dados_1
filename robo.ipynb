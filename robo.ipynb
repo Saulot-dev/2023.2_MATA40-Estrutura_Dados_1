{
 "cells": [
  {
   "cell_type": "code",
   "execution_count": 26,
   "metadata": {},
   "outputs": [],
   "source": [
    "class robo:\n",
    "    def __init__(self):\n",
    "        self.id = \"\"\n",
    "        self.amigo = None\n",
    "        \n",
    "    def define_id(self, i):\n",
    "        self.id = i\n",
    "        \n",
    "    def define_amigo(self, a):\n",
    "        self.amigo = a\n",
    "        \n",
    "    def mostra_id(self):\n",
    "        return self.id\n",
    "    \n",
    "    def mostra_amigo(self):\n",
    "        return self.amigo.mostra_id()\n",
    "        "
   ]
  },
  {
   "cell_type": "code",
   "execution_count": 27,
   "metadata": {},
   "outputs": [
    {
     "name": "stdout",
     "output_type": "stream",
     "text": [
      "Meu id é R2D2\n"
     ]
    }
   ],
   "source": [
    "r1 = robo()\n",
    "r1.define_id(\"R2D2\")\n",
    "print(f\"Meu id é {r1.mostra_id()}\")"
   ]
  },
  {
   "cell_type": "code",
   "execution_count": 28,
   "metadata": {},
   "outputs": [
    {
     "name": "stdout",
     "output_type": "stream",
     "text": [
      "Meu id é C3PO\n"
     ]
    }
   ],
   "source": [
    "r2 = robo()\n",
    "r2.define_id('C3PO')\n",
    "print(f\"Meu id é {r2.mostra_id()}\")"
   ]
  },
  {
   "cell_type": "code",
   "execution_count": 29,
   "metadata": {},
   "outputs": [],
   "source": [
    "r1.define_amigo(r2)"
   ]
  },
  {
   "cell_type": "code",
   "execution_count": 31,
   "metadata": {},
   "outputs": [
    {
     "name": "stdout",
     "output_type": "stream",
     "text": [
      "O amigo de R2D2 é C3PO\n"
     ]
    }
   ],
   "source": [
    "print(f\"O amigo de {r1.mostra_id()} é {r1.mostra_amigo()}\")"
   ]
  },
  {
   "cell_type": "code",
   "execution_count": null,
   "metadata": {},
   "outputs": [
    {
     "name": "stdout",
     "output_type": "stream",
     "text": [
      "O amigo de C3PO é R2D2\n"
     ]
    }
   ],
   "source": []
  }
 ],
 "metadata": {
  "kernelspec": {
   "display_name": "Python 3",
   "language": "python",
   "name": "python3"
  },
  "language_info": {
   "codemirror_mode": {
    "name": "ipython",
    "version": 3
   },
   "file_extension": ".py",
   "mimetype": "text/x-python",
   "name": "python",
   "nbconvert_exporter": "python",
   "pygments_lexer": "ipython3",
   "version": "3.6.9"
  }
 },
 "nbformat": 4,
 "nbformat_minor": 4
}
